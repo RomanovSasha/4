{
 "cells": [
  {
   "cell_type": "code",
   "execution_count": 651,
   "id": "7f1fa4a4",
   "metadata": {},
   "outputs": [],
   "source": [
    "import numpy as np\n",
    "import pandas as pd\n",
    "import seaborn as sns\n",
    "\n",
    "from sklearn.linear_model import LinearRegression"
   ]
  },
  {
   "cell_type": "markdown",
   "id": "b4ed9cd6",
   "metadata": {},
   "source": [
    "Создаем даннуе, стоимость ноутбука от его характеристик (RAM, SSD, graphics, core). Цену генерирум через комбинацию трех признаков, четвертый (RAM) не используется.\n",
    "После в данные core 2% данных заменяются на выбросы."
   ]
  },
  {
   "cell_type": "code",
   "execution_count": 652,
   "id": "73705da5",
   "metadata": {},
   "outputs": [
    {
     "data": {
      "text/html": [
       "<div>\n",
       "<style scoped>\n",
       "    .dataframe tbody tr th:only-of-type {\n",
       "        vertical-align: middle;\n",
       "    }\n",
       "\n",
       "    .dataframe tbody tr th {\n",
       "        vertical-align: top;\n",
       "    }\n",
       "\n",
       "    .dataframe thead th {\n",
       "        text-align: right;\n",
       "    }\n",
       "</style>\n",
       "<table border=\"1\" class=\"dataframe\">\n",
       "  <thead>\n",
       "    <tr style=\"text-align: right;\">\n",
       "      <th></th>\n",
       "      <th>laptop_ram</th>\n",
       "      <th>laptop_ssd</th>\n",
       "      <th>laptop_graphics</th>\n",
       "      <th>laptop_core</th>\n",
       "      <th>price</th>\n",
       "    </tr>\n",
       "  </thead>\n",
       "  <tbody>\n",
       "    <tr>\n",
       "      <th>0</th>\n",
       "      <td>16</td>\n",
       "      <td>1024</td>\n",
       "      <td>0.256</td>\n",
       "      <td>4</td>\n",
       "      <td>132760.0</td>\n",
       "    </tr>\n",
       "    <tr>\n",
       "      <th>1</th>\n",
       "      <td>16</td>\n",
       "      <td>256</td>\n",
       "      <td>2.000</td>\n",
       "      <td>1</td>\n",
       "      <td>70600.0</td>\n",
       "    </tr>\n",
       "    <tr>\n",
       "      <th>2</th>\n",
       "      <td>1</td>\n",
       "      <td>256</td>\n",
       "      <td>2.000</td>\n",
       "      <td>2</td>\n",
       "      <td>100600.0</td>\n",
       "    </tr>\n",
       "    <tr>\n",
       "      <th>3</th>\n",
       "      <td>2</td>\n",
       "      <td>512</td>\n",
       "      <td>6.000</td>\n",
       "      <td>2</td>\n",
       "      <td>246200.0</td>\n",
       "    </tr>\n",
       "    <tr>\n",
       "      <th>4</th>\n",
       "      <td>16</td>\n",
       "      <td>512</td>\n",
       "      <td>2.000</td>\n",
       "      <td>1</td>\n",
       "      <td>96200.0</td>\n",
       "    </tr>\n",
       "  </tbody>\n",
       "</table>\n",
       "</div>"
      ],
      "text/plain": [
       "   laptop_ram  laptop_ssd  laptop_graphics  laptop_core     price\n",
       "0          16        1024            0.256            4  132760.0\n",
       "1          16         256            2.000            1   70600.0\n",
       "2           1         256            2.000            2  100600.0\n",
       "3           2         512            6.000            2  246200.0\n",
       "4          16         512            2.000            1   96200.0"
      ]
     },
     "execution_count": 652,
     "metadata": {},
     "output_type": "execute_result"
    }
   ],
   "source": [
    "# Создаём сэмпл\n",
    "n_samples = 1000\n",
    "\n",
    "RAM = [1, 2, 4, 8, 16]\n",
    "laptop_ram = np.random.choice(RAM, n_samples)\n",
    "SSD = [128, 256, 512, 1024, 2048]\n",
    "laptop_ssd = np.random.choice(SSD, n_samples)\n",
    "graphics = [0.256, 0.512, 1, 2, 4, 6]\n",
    "laptop_graphics = np.random.choice(graphics, n_samples)\n",
    "core = [1, 2, 4, 8]\n",
    "laptop_core = np.random.choice(core, n_samples)\n",
    "\n",
    "price = 100 * laptop_ssd + laptop_graphics * laptop_core * 15000 + 15000\n",
    "\n",
    "for i in range(20):\n",
    "    laptop_core[np.random.randint(1, n_samples)] += np.random.randint(25, 50)\n",
    "\n",
    "data = pd.DataFrame({'laptop_ram': laptop_ram, 'laptop_ssd': laptop_ssd, 'laptop_graphics': laptop_graphics, 'laptop_core': laptop_core, 'price': price})\n",
    "data.head(5)"
   ]
  },
  {
   "cell_type": "markdown",
   "id": "e6b264f8",
   "metadata": {},
   "source": [
    "Обучаем модель на всех признаках"
   ]
  },
  {
   "cell_type": "code",
   "execution_count": 653,
   "id": "1484c3ff",
   "metadata": {},
   "outputs": [
    {
     "name": "stdout",
     "output_type": "stream",
     "text": [
      "Weights: [  462.59125449    92.37929442 54935.2155235   7319.26939852]\n",
      "Bias: -11764.518093941413\n",
      "Error: 67899.83155344038\n"
     ]
    }
   ],
   "source": [
    "from sklearn.metrics import mean_absolute_error\n",
    "\n",
    "X = data[['laptop_ram', 'laptop_ssd', 'laptop_graphics', 'laptop_core']]\n",
    "y = data['price']\n",
    "reg = LinearRegression().fit(X, y)\n",
    "\n",
    "print('Weights: {}'.format(reg.coef_))\n",
    "print('Bias: {}'.format(reg.intercept_))\n",
    "\n",
    "pred_values = reg.predict(data[['laptop_ram', 'laptop_ssd', 'laptop_graphics', 'laptop_core']])\n",
    "print('Error: {}'.format(mean_absolute_error(pred_values, y)))"
   ]
  },
  {
   "cell_type": "markdown",
   "id": "39f9251b",
   "metadata": {},
   "source": [
    "Строим зависимость признаков друг от друга "
   ]
  },
  {
   "cell_type": "code",
   "execution_count": 654,
   "id": "11e0dad5",
   "metadata": {},
   "outputs": [
    {
     "data": {
      "text/plain": [
       "<AxesSubplot:>"
      ]
     },
     "execution_count": 654,
     "metadata": {},
     "output_type": "execute_result"
    },
    {
     "data": {
      "image/png": "[encoded data removed]",
      "text/plain": [
       "<Figure size 432x288 with 2 Axes>"
      ]
     },
     "metadata": {
      "needs_background": "light"
     },
     "output_type": "display_data"
    }
   ],
   "source": [
    "cor = data.corr()\n",
    "sns.heatmap(cor, center=0)"
   ]
  },
  {
   "cell_type": "markdown",
   "id": "830da519",
   "metadata": {},
   "source": [
    "Видим, что price не зависит от laptop_ram и проводим обучение уже на трех признаках "
   ]
  },
  {
   "cell_type": "code",
   "execution_count": 655,
   "id": "840da76d",
   "metadata": {},
   "outputs": [
    {
     "name": "stdout",
     "output_type": "stream",
     "text": [
      "Weights: [   92.44710744 54927.7973138   7315.40447107]\n",
      "Bias: -8917.656252773682\n",
      "Error: 67673.60095909648\n"
     ]
    }
   ],
   "source": [
    "X = data[['laptop_ssd', 'laptop_graphics', 'laptop_core']]\n",
    "y = data['price']\n",
    "reg = LinearRegression().fit(X, y)\n",
    "\n",
    "print('Weights: {}'.format(reg.coef_))\n",
    "print('Bias: {}'.format(reg.intercept_))\n",
    "\n",
    "pred_values = reg.predict(data[['laptop_ssd', 'laptop_graphics', 'laptop_core']])\n",
    "print('Error: {}'.format(mean_absolute_error(pred_values, y)))"
   ]
  },
  {
   "cell_type": "markdown",
   "id": "80f6fcc7",
   "metadata": {},
   "source": [
    "Ошибка не изменилась,\n",
    "строим гистограммы данных "
   ]
  },
  {
   "cell_type": "code",
   "execution_count": 656,
   "id": "f8734a3e",
   "metadata": {},
   "outputs": [],
   "source": [
    "import  matplotlib.pyplot as plt"
   ]
  },
  {
   "cell_type": "code",
   "execution_count": 657,
   "id": "50c89033",
   "metadata": {},
   "outputs": [
    {
     "data": {
      "text/plain": [
       "(array([378.,   0., 191.,   0., 224.,   0.,   0.,   0.,   0., 207.]),\n",
       " array([ 128.,  320.,  512.,  704.,  896., 1088., 1280., 1472., 1664.,\n",
       "        1856., 2048.]),\n",
       " <BarContainer object of 10 artists>)"
      ]
     },
     "execution_count": 657,
     "metadata": {},
     "output_type": "execute_result"
    },
    {
     "data": {
      "image/png": "[encoded data removed]",
      "text/plain": [
       "<Figure size 432x288 with 1 Axes>"
      ]
     },
     "metadata": {
      "needs_background": "light"
     },
     "output_type": "display_data"
    }
   ],
   "source": [
    "plt.hist(laptop_ssd)"
   ]
  },
  {
   "cell_type": "code",
   "execution_count": 658,
   "id": "399b28b1",
   "metadata": {},
   "outputs": [
    {
     "data": {
      "text/plain": [
       "(array([316., 176.,   0., 168.,   0.,   0., 152.,   0.,   0., 188.]),\n",
       " array([0.256 , 0.8304, 1.4048, 1.9792, 2.5536, 3.128 , 3.7024, 4.2768,\n",
       "        4.8512, 5.4256, 6.    ]),\n",
       " <BarContainer object of 10 artists>)"
      ]
     },
     "execution_count": 658,
     "metadata": {},
     "output_type": "execute_result"
    },
    {
     "data": {
      "image/png": "[encoded data removed]",
      "text/plain": [
       "<Figure size 432x288 with 1 Axes>"
      ]
     },
     "metadata": {
      "needs_background": "light"
     },
     "output_type": "display_data"
    }
   ],
   "source": [
    "plt.hist(laptop_graphics)"
   ]
  },
  {
   "cell_type": "code",
   "execution_count": 659,
   "id": "57978290",
   "metadata": {},
   "outputs": [
    {
     "data": {
      "text/plain": [
       "(array([761., 219.,   0.,   0.,   0.,   5.,   4.,   5.,   1.,   5.]),\n",
       " array([ 1. ,  6.6, 12.2, 17.8, 23.4, 29. , 34.6, 40.2, 45.8, 51.4, 57. ]),\n",
       " <BarContainer object of 10 artists>)"
      ]
     },
     "execution_count": 659,
     "metadata": {},
     "output_type": "execute_result"
    },
    {
     "data": {
      "image/png": "[encoded data removed]",
      "text/plain": [
       "<Figure size 432x288 with 1 Axes>"
      ]
     },
     "metadata": {
      "needs_background": "light"
     },
     "output_type": "display_data"
    }
   ],
   "source": [
    "plt.hist(laptop_core)"
   ]
  },
  {
   "cell_type": "markdown",
   "id": "dca27141",
   "metadata": {},
   "source": [
    "Видим, что в данных laptop_core  присутствуют выбрасы. Пытаемся поменять эти значения на медианные по выборке. Также получаем второй набор данных (data_2) в котором удаляем выбрасы"
   ]
  },
  {
   "cell_type": "code",
   "execution_count": 660,
   "id": "f8e14c36",
   "metadata": {},
   "outputs": [],
   "source": [
    "core_2 = [np.nan]\n",
    "laptop_core_2 = np.random.choice(core_2, n_samples)\n",
    "for i in range(n_samples):\n",
    "    if laptop_core[i] > 12:        \n",
    "        laptop_core[i] = data['laptop_core'].median()\n",
    "    else:\n",
    "        laptop_core_2[i] = laptop_core[i]\n",
    "\n"
   ]
  },
  {
   "cell_type": "code",
   "execution_count": 661,
   "id": "f42d802c",
   "metadata": {},
   "outputs": [
    {
     "data": {
      "text/html": [
       "<div>\n",
       "<style scoped>\n",
       "    .dataframe tbody tr th:only-of-type {\n",
       "        vertical-align: middle;\n",
       "    }\n",
       "\n",
       "    .dataframe tbody tr th {\n",
       "        vertical-align: top;\n",
       "    }\n",
       "\n",
       "    .dataframe thead th {\n",
       "        text-align: right;\n",
       "    }\n",
       "</style>\n",
       "<table border=\"1\" class=\"dataframe\">\n",
       "  <thead>\n",
       "    <tr style=\"text-align: right;\">\n",
       "      <th></th>\n",
       "      <th>laptop_ram</th>\n",
       "      <th>laptop_ssd</th>\n",
       "      <th>laptop_graphics</th>\n",
       "      <th>laptop_core_2</th>\n",
       "      <th>price</th>\n",
       "    </tr>\n",
       "  </thead>\n",
       "  <tbody>\n",
       "    <tr>\n",
       "      <th>0</th>\n",
       "      <td>16</td>\n",
       "      <td>1024</td>\n",
       "      <td>0.256</td>\n",
       "      <td>4.0</td>\n",
       "      <td>132760.0</td>\n",
       "    </tr>\n",
       "    <tr>\n",
       "      <th>1</th>\n",
       "      <td>16</td>\n",
       "      <td>256</td>\n",
       "      <td>2.000</td>\n",
       "      <td>1.0</td>\n",
       "      <td>70600.0</td>\n",
       "    </tr>\n",
       "    <tr>\n",
       "      <th>2</th>\n",
       "      <td>1</td>\n",
       "      <td>256</td>\n",
       "      <td>2.000</td>\n",
       "      <td>2.0</td>\n",
       "      <td>100600.0</td>\n",
       "    </tr>\n",
       "    <tr>\n",
       "      <th>3</th>\n",
       "      <td>2</td>\n",
       "      <td>512</td>\n",
       "      <td>6.000</td>\n",
       "      <td>2.0</td>\n",
       "      <td>246200.0</td>\n",
       "    </tr>\n",
       "    <tr>\n",
       "      <th>4</th>\n",
       "      <td>16</td>\n",
       "      <td>512</td>\n",
       "      <td>2.000</td>\n",
       "      <td>1.0</td>\n",
       "      <td>96200.0</td>\n",
       "    </tr>\n",
       "  </tbody>\n",
       "</table>\n",
       "</div>"
      ],
      "text/plain": [
       "   laptop_ram  laptop_ssd  laptop_graphics  laptop_core_2     price\n",
       "0          16        1024            0.256            4.0  132760.0\n",
       "1          16         256            2.000            1.0   70600.0\n",
       "2           1         256            2.000            2.0  100600.0\n",
       "3           2         512            6.000            2.0  246200.0\n",
       "4          16         512            2.000            1.0   96200.0"
      ]
     },
     "execution_count": 661,
     "metadata": {},
     "output_type": "execute_result"
    }
   ],
   "source": [
    "data_2 = pd.DataFrame({'laptop_ram': laptop_ram, 'laptop_ssd': laptop_ssd, 'laptop_graphics': laptop_graphics, 'laptop_core_2': laptop_core_2, 'price': price})\n",
    "data_2.head(5)"
   ]
  },
  {
   "cell_type": "code",
   "execution_count": 662,
   "id": "e2a7650e",
   "metadata": {},
   "outputs": [],
   "source": [
    "data_2 = data_2[ pd.isna( data_2['laptop_core_2'] ) == 0 ]"
   ]
  },
  {
   "cell_type": "markdown",
   "id": "67948410",
   "metadata": {},
   "source": [
    "Строим корреляцию между признаками для второго набора данных. Видим что при удалении выбрасов корреляция между price и laptop_core_2 увеличилась"
   ]
  },
  {
   "cell_type": "code",
   "execution_count": 663,
   "id": "74d80d84",
   "metadata": {},
   "outputs": [
    {
     "data": {
      "text/plain": [
       "<AxesSubplot:>"
      ]
     },
     "execution_count": 663,
     "metadata": {},
     "output_type": "execute_result"
    },
    {
     "data": {
      "image/png": "[encoded data removed]",
      "text/plain": [
       "<Figure size 432x288 with 2 Axes>"
      ]
     },
     "metadata": {
      "needs_background": "light"
     },
     "output_type": "display_data"
    }
   ],
   "source": [
    "cor = data_2.corr()\n",
    "sns.heatmap(cor, center=0)"
   ]
  },
  {
   "cell_type": "code",
   "execution_count": 664,
   "id": "b0b9856e",
   "metadata": {},
   "outputs": [
    {
     "data": {
      "text/plain": [
       "(array([249., 244.,   0.,   0., 288.,   0.,   0.,   0.,   0., 219.]),\n",
       " array([1. , 1.7, 2.4, 3.1, 3.8, 4.5, 5.2, 5.9, 6.6, 7.3, 8. ]),\n",
       " <BarContainer object of 10 artists>)"
      ]
     },
     "execution_count": 664,
     "metadata": {},
     "output_type": "execute_result"
    },
    {
     "data": {
      "image/png": "[encoded data removed]",
      "text/plain": [
       "<Figure size 432x288 with 1 Axes>"
      ]
     },
     "metadata": {
      "needs_background": "light"
     },
     "output_type": "display_data"
    }
   ],
   "source": [
    "plt.hist(laptop_core)"
   ]
  },
  {
   "cell_type": "code",
   "execution_count": 665,
   "id": "152ad8f6",
   "metadata": {},
   "outputs": [
    {
     "data": {
      "text/plain": [
       "(array([249., 244.,   0.,   0., 268.,   0.,   0.,   0.,   0., 219.]),\n",
       " array([1. , 1.7, 2.4, 3.1, 3.8, 4.5, 5.2, 5.9, 6.6, 7.3, 8. ]),\n",
       " <BarContainer object of 10 artists>)"
      ]
     },
     "execution_count": 665,
     "metadata": {},
     "output_type": "execute_result"
    },
    {
     "data": {
      "image/png": "[encoded data removed]",
      "text/plain": [
       "<Figure size 432x288 with 1 Axes>"
      ]
     },
     "metadata": {
      "needs_background": "light"
     },
     "output_type": "display_data"
    }
   ],
   "source": [
    "plt.hist(laptop_core_2)"
   ]
  },
  {
   "cell_type": "markdown",
   "id": "653a7ad2",
   "metadata": {},
   "source": [
    "Обучаем на новых данных laptop_core (выбрасо заменены на медианные значения) и laptop_core_2 (выбрасо удалены)"
   ]
  },
  {
   "cell_type": "code",
   "execution_count": 666,
   "id": "9810a97c",
   "metadata": {},
   "outputs": [
    {
     "name": "stdout",
     "output_type": "stream",
     "text": [
      "Weights: [   92.44710744 54927.7973138   7315.40447107]\n",
      "Bias: -8917.656252773682\n",
      "Error: 67673.60095909648\n"
     ]
    }
   ],
   "source": [
    "X = data[['laptop_ssd', 'laptop_graphics', 'laptop_core']]\n",
    "y = data['price']\n",
    "reg = LinearRegression().fit(X, y)\n",
    "\n",
    "print('Weights: {}'.format(reg.coef_))\n",
    "print('Bias: {}'.format(reg.intercept_))\n",
    "\n",
    "pred_values = reg.predict(data[['laptop_ssd', 'laptop_graphics', 'laptop_core']])\n",
    "print('Error: {}'.format(mean_absolute_error(pred_values, y)))"
   ]
  },
  {
   "cell_type": "code",
   "execution_count": 667,
   "id": "0c06d478",
   "metadata": {},
   "outputs": [
    {
     "name": "stdout",
     "output_type": "stream",
     "text": [
      "Weights: [  100.39260252 54242.29442443 35867.76521613]\n",
      "Bias: -112635.15216361475\n",
      "Error: 59014.62046244251\n"
     ]
    }
   ],
   "source": [
    "X = data_2[['laptop_ssd', 'laptop_graphics', 'laptop_core_2']]\n",
    "y = data_2['price']\n",
    "reg = LinearRegression().fit(X, y)\n",
    "\n",
    "print('Weights: {}'.format(reg.coef_))\n",
    "print('Bias: {}'.format(reg.intercept_))\n",
    "\n",
    "pred_values = reg.predict(data_2[['laptop_ssd', 'laptop_graphics', 'laptop_core_2']])\n",
    "print('Error: {}'.format(mean_absolute_error(pred_values, y)))"
   ]
  },
  {
   "cell_type": "markdown",
   "id": "dd120753",
   "metadata": {},
   "source": [
    "Ошибка отличается"
   ]
  },
  {
   "cell_type": "markdown",
   "id": "11cccfa6",
   "metadata": {},
   "source": [
    "Генерируем признак через комбинацию двух других признаков laptop_core и laptop_core_2"
   ]
  },
  {
   "cell_type": "code",
   "execution_count": 668,
   "id": "e4da0b71",
   "metadata": {},
   "outputs": [
    {
     "data": {
      "text/html": [
       "<div>\n",
       "<style scoped>\n",
       "    .dataframe tbody tr th:only-of-type {\n",
       "        vertical-align: middle;\n",
       "    }\n",
       "\n",
       "    .dataframe tbody tr th {\n",
       "        vertical-align: top;\n",
       "    }\n",
       "\n",
       "    .dataframe thead th {\n",
       "        text-align: right;\n",
       "    }\n",
       "</style>\n",
       "<table border=\"1\" class=\"dataframe\">\n",
       "  <thead>\n",
       "    <tr style=\"text-align: right;\">\n",
       "      <th></th>\n",
       "      <th>laptop_ram</th>\n",
       "      <th>laptop_ssd</th>\n",
       "      <th>laptop_graphics</th>\n",
       "      <th>laptop_core</th>\n",
       "      <th>price</th>\n",
       "      <th>mult</th>\n",
       "    </tr>\n",
       "  </thead>\n",
       "  <tbody>\n",
       "    <tr>\n",
       "      <th>0</th>\n",
       "      <td>16</td>\n",
       "      <td>1024</td>\n",
       "      <td>0.256</td>\n",
       "      <td>4</td>\n",
       "      <td>132760.0</td>\n",
       "      <td>1.024</td>\n",
       "    </tr>\n",
       "    <tr>\n",
       "      <th>1</th>\n",
       "      <td>16</td>\n",
       "      <td>256</td>\n",
       "      <td>2.000</td>\n",
       "      <td>1</td>\n",
       "      <td>70600.0</td>\n",
       "      <td>2.000</td>\n",
       "    </tr>\n",
       "    <tr>\n",
       "      <th>2</th>\n",
       "      <td>1</td>\n",
       "      <td>256</td>\n",
       "      <td>2.000</td>\n",
       "      <td>2</td>\n",
       "      <td>100600.0</td>\n",
       "      <td>4.000</td>\n",
       "    </tr>\n",
       "    <tr>\n",
       "      <th>3</th>\n",
       "      <td>2</td>\n",
       "      <td>512</td>\n",
       "      <td>6.000</td>\n",
       "      <td>2</td>\n",
       "      <td>246200.0</td>\n",
       "      <td>12.000</td>\n",
       "    </tr>\n",
       "    <tr>\n",
       "      <th>4</th>\n",
       "      <td>16</td>\n",
       "      <td>512</td>\n",
       "      <td>2.000</td>\n",
       "      <td>1</td>\n",
       "      <td>96200.0</td>\n",
       "      <td>2.000</td>\n",
       "    </tr>\n",
       "  </tbody>\n",
       "</table>\n",
       "</div>"
      ],
      "text/plain": [
       "   laptop_ram  laptop_ssd  laptop_graphics  laptop_core     price    mult\n",
       "0          16        1024            0.256            4  132760.0   1.024\n",
       "1          16         256            2.000            1   70600.0   2.000\n",
       "2           1         256            2.000            2  100600.0   4.000\n",
       "3           2         512            6.000            2  246200.0  12.000\n",
       "4          16         512            2.000            1   96200.0   2.000"
      ]
     },
     "execution_count": 668,
     "metadata": {},
     "output_type": "execute_result"
    }
   ],
   "source": [
    "data['mult'] = data['laptop_graphics'] * data['laptop_core']\n",
    "data.head(5)"
   ]
  },
  {
   "cell_type": "code",
   "execution_count": 669,
   "id": "11004fb3",
   "metadata": {},
   "outputs": [
    {
     "data": {
      "text/html": [
       "<div>\n",
       "<style scoped>\n",
       "    .dataframe tbody tr th:only-of-type {\n",
       "        vertical-align: middle;\n",
       "    }\n",
       "\n",
       "    .dataframe tbody tr th {\n",
       "        vertical-align: top;\n",
       "    }\n",
       "\n",
       "    .dataframe thead th {\n",
       "        text-align: right;\n",
       "    }\n",
       "</style>\n",
       "<table border=\"1\" class=\"dataframe\">\n",
       "  <thead>\n",
       "    <tr style=\"text-align: right;\">\n",
       "      <th></th>\n",
       "      <th>laptop_ram</th>\n",
       "      <th>laptop_ssd</th>\n",
       "      <th>laptop_graphics</th>\n",
       "      <th>laptop_core_2</th>\n",
       "      <th>price</th>\n",
       "      <th>mult</th>\n",
       "    </tr>\n",
       "  </thead>\n",
       "  <tbody>\n",
       "    <tr>\n",
       "      <th>0</th>\n",
       "      <td>16</td>\n",
       "      <td>1024</td>\n",
       "      <td>0.256</td>\n",
       "      <td>4.0</td>\n",
       "      <td>132760.0</td>\n",
       "      <td>1.024</td>\n",
       "    </tr>\n",
       "    <tr>\n",
       "      <th>1</th>\n",
       "      <td>16</td>\n",
       "      <td>256</td>\n",
       "      <td>2.000</td>\n",
       "      <td>1.0</td>\n",
       "      <td>70600.0</td>\n",
       "      <td>2.000</td>\n",
       "    </tr>\n",
       "    <tr>\n",
       "      <th>2</th>\n",
       "      <td>1</td>\n",
       "      <td>256</td>\n",
       "      <td>2.000</td>\n",
       "      <td>2.0</td>\n",
       "      <td>100600.0</td>\n",
       "      <td>4.000</td>\n",
       "    </tr>\n",
       "    <tr>\n",
       "      <th>3</th>\n",
       "      <td>2</td>\n",
       "      <td>512</td>\n",
       "      <td>6.000</td>\n",
       "      <td>2.0</td>\n",
       "      <td>246200.0</td>\n",
       "      <td>12.000</td>\n",
       "    </tr>\n",
       "    <tr>\n",
       "      <th>4</th>\n",
       "      <td>16</td>\n",
       "      <td>512</td>\n",
       "      <td>2.000</td>\n",
       "      <td>1.0</td>\n",
       "      <td>96200.0</td>\n",
       "      <td>2.000</td>\n",
       "    </tr>\n",
       "  </tbody>\n",
       "</table>\n",
       "</div>"
      ],
      "text/plain": [
       "   laptop_ram  laptop_ssd  laptop_graphics  laptop_core_2     price    mult\n",
       "0          16        1024            0.256            4.0  132760.0   1.024\n",
       "1          16         256            2.000            1.0   70600.0   2.000\n",
       "2           1         256            2.000            2.0  100600.0   4.000\n",
       "3           2         512            6.000            2.0  246200.0  12.000\n",
       "4          16         512            2.000            1.0   96200.0   2.000"
      ]
     },
     "execution_count": 669,
     "metadata": {},
     "output_type": "execute_result"
    }
   ],
   "source": [
    "data_2['mult'] = data_2['laptop_graphics'] * data_2['laptop_core_2']\n",
    "data_2.head(5)"
   ]
  },
  {
   "cell_type": "markdown",
   "id": "b2e0f8b1",
   "metadata": {},
   "source": [
    "Проводим обучение с помощью нового признака"
   ]
  },
  {
   "cell_type": "code",
   "execution_count": 670,
   "id": "d9730784",
   "metadata": {},
   "outputs": [
    {
     "name": "stdout",
     "output_type": "stream",
     "text": [
      "Weights: [4213.57173741   90.95986308]\n",
      "Bias: 108573.98719339482\n",
      "Error: 92101.70591968538\n"
     ]
    }
   ],
   "source": [
    "X = data[['mult', 'laptop_ssd']]\n",
    "y = data['price']\n",
    "reg = LinearRegression().fit(X, y)\n",
    "\n",
    "print('Weights: {}'.format(reg.coef_))\n",
    "print('Bias: {}'.format(reg.intercept_))\n",
    "\n",
    "pred_values = reg.predict(data[['mult', 'laptop_ssd']])\n",
    "print('Error: {}'.format(mean_absolute_error(pred_values, y)))"
   ]
  },
  {
   "cell_type": "code",
   "execution_count": 671,
   "id": "70b92351",
   "metadata": {},
   "outputs": [
    {
     "name": "stdout",
     "output_type": "stream",
     "text": [
      "Weights: [15000.   100.]\n",
      "Bias: 15000.000000000087\n",
      "Error: 7.717712183615991e-11\n"
     ]
    }
   ],
   "source": [
    "X = data_2[['mult', 'laptop_ssd']]\n",
    "y = data_2['price']\n",
    "reg = LinearRegression().fit(X, y)\n",
    "\n",
    "print('Weights: {}'.format(reg.coef_))\n",
    "print('Bias: {}'.format(reg.intercept_))\n",
    "\n",
    "pred_values = reg.predict(data_2[['mult', 'laptop_ssd']])\n",
    "print('Error: {}'.format(mean_absolute_error(pred_values, y)))"
   ]
  },
  {
   "cell_type": "markdown",
   "id": "121a540b",
   "metadata": {},
   "source": [
    "Ошибки отличаютя на много. Получаем, что удаление плохих данных ведет к лучшему результату, чем замена на медианное значение если они их не так много и они не влияют на размер данных."
   ]
  }
 ],
 "metadata": {
  "kernelspec": {
   "display_name": "Python 3 (ipykernel)",
   "language": "python",
   "name": "python3"
  },
  "language_info": {
   "codemirror_mode": {
    "name": "ipython",
    "version": 3
   },
   "file_extension": ".py",
   "mimetype": "text/x-python",
   "name": "python",
   "nbconvert_exporter": "python",
   "pygments_lexer": "ipython3",
   "version": "3.8.5"
  }
 },
 "nbformat": 4,
 "nbformat_minor": 5
}
